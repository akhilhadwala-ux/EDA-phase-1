{
 "cells": [
  {
   "cell_type": "code",
   "execution_count": null,
   "id": "8d7d9472-4395-46df-9f5f-f702e2f50d31",
   "metadata": {},
   "outputs": [],
   "source": []
  },
  {
   "cell_type": "markdown",
   "id": "3e7ddeeb-b3ca-45c1-99a0-bf65dd1a5d91",
   "metadata": {},
   "source": [
    "<div style='background-color:skyblue;padding:14px'>\n",
    "<p style='text-align:center'><font size='8px' color=#FFFFF face ='Product Sans'><b>Project Name:-  Credit Card Approval Prediction Dataset</b></font</p></div>"
   ]
  },
  {
   "cell_type": "code",
   "execution_count": null,
   "id": "264786e4-653f-41c1-a52a-ba011e44a6ec",
   "metadata": {},
   "outputs": [],
   "source": []
  },
  {
   "cell_type": "markdown",
   "id": "52765ac1-bdbb-4ef6-ab13-f96b715bf67d",
   "metadata": {},
   "source": [
    "\n",
    "\n",
    "---\n",
    "\n",
    "## Phase 1: Data Exploration & Initial Assessment\n",
    "###  Project Context: Credit Card Eligibility Assessment\n",
    "\n",
    "Credit card issuing companies need to ensure that applicants are financially reliable before approving a credit card. A poor approval decision may result in **defaults**, which lead to financial losses. Therefore, analyzing customer **application information** (demographics, income, family details) along with their **credit repayment history** is essential to decide whether a client is **eligible** or **not eligible** for a credit card.\n",
    "\n",
    "###  Objective\n",
    "\n",
    "* To determine **credit card eligibility** of applicants based on their financial and credit history data.\n",
    "* Eligibility is defined by the customer’s repayment behavior:\n",
    "\n",
    "  * **Eligible (DEFAULT = 0)** → The client has no serious overdue history.\n",
    "  * **Not Eligible (DEFAULT = 1)** → The client has a history of serious delinquency (overdue 2+ months).\n",
    "\n",
    "###  Dataset Details\n",
    "\n",
    "The project uses two datasets:\n",
    "\n",
    "1. **Application Record** → demographic and socio-economic details such as gender, age, income, employment, occupation, family size, housing, car & real estate ownership.\n",
    "2. **Credit Record** → monthly repayment status (`STATUS`), credit history length (`MONTHS_BALANCE`).\n",
    "\n",
    "After merging:\n",
    "\n",
    "* Each customer has a **single profile row**.\n",
    "* A derived column **`DEFAULT`** acts as the target:\n",
    "\n",
    "  * `0` → customer is **eligible**.\n",
    "  * `1` → customer is **not eligible**.\n",
    "\n",
    "###  Business Problem\n",
    "\n",
    "The task is to identify **which applicants can be safely approved** for a credit card, and **which ones should be rejected** due to past repayment problems.\n",
    "\n",
    "###  Expected Outcome\n",
    "\n",
    "* A dataset that clearly marks each customer as **eligible or not eligible**.\n",
    "* Insights into factors that contribute to **ineligibility**, such as low income, unstable job, or poor repayment history.\n",
    "* A decision-support tool for credit card approval teams.\n",
    "\n",
    "---"
   ]
  },
  {
   "cell_type": "markdown",
   "id": "0c47405f-51ee-4148-9c17-62eca16a4218",
   "metadata": {},
   "source": [
    "\n",
    "### 1. Load the Dataset"
   ]
  },
  {
   "cell_type": "markdown",
   "id": "c89a6424-09f8-43ee-8f6e-b359de9dfaf5",
   "metadata": {},
   "source": [
    "##### Importing required modules"
   ]
  },
  {
   "cell_type": "code",
   "execution_count": 2,
   "id": "e55907bd-07f2-4df3-83f0-389fec370dac",
   "metadata": {
    "execution": {
     "iopub.execute_input": "2025-09-12T07:04:28.174870Z",
     "iopub.status.busy": "2025-09-12T07:04:28.174870Z",
     "iopub.status.idle": "2025-09-12T07:04:30.912222Z",
     "shell.execute_reply": "2025-09-12T07:04:30.912222Z",
     "shell.execute_reply.started": "2025-09-12T07:04:28.174870Z"
    }
   },
   "outputs": [],
   "source": [
    "import numpy as np\n",
    "import pandas as pd\n",
    "import random\n",
    "import matplotlib\n",
    "import matplotlib.pyplot as plt\n",
    "import seaborn as sns\n",
    "import plotly.graph_objects as go \n",
    "import plotly.express as px\n",
    "import plotly.io as pio\n",
    "\n",
    "from IPython.core.interactiveshell import InteractiveShell\n",
    "InteractiveShell.ast_node_interactivity = 'all'\n",
    "\n",
    "import warnings\n",
    "warnings.filterwarnings('ignore')\n"
   ]
  },
  {
   "cell_type": "code",
   "execution_count": 3,
   "id": "7ab93d70-dd85-46e8-8e74-46a3a68fab55",
   "metadata": {
    "execution": {
     "iopub.execute_input": "2025-09-12T07:04:30.912222Z",
     "iopub.status.busy": "2025-09-12T07:04:30.912222Z",
     "iopub.status.idle": "2025-09-12T07:04:30.918535Z",
     "shell.execute_reply": "2025-09-12T07:04:30.917838Z",
     "shell.execute_reply.started": "2025-09-12T07:04:30.912222Z"
    }
   },
   "outputs": [],
   "source": [
    "from IPython.core.interactiveshell import InteractiveShell\n",
    "InteractiveShell.ast_node_interactivity = 'all'"
   ]
  },
  {
   "cell_type": "code",
   "execution_count": 4,
   "id": "21f88682-d5ab-43e7-8426-a856d361008b",
   "metadata": {
    "execution": {
     "iopub.execute_input": "2025-09-12T07:04:30.920547Z",
     "iopub.status.busy": "2025-09-12T07:04:30.918535Z",
     "iopub.status.idle": "2025-09-12T07:04:31.023519Z",
     "shell.execute_reply": "2025-09-12T07:04:31.023519Z",
     "shell.execute_reply.started": "2025-09-12T07:04:30.920547Z"
    }
   },
   "outputs": [],
   "source": [
    "filepath=r\"C:\\Users\\akhil\\INNOMATICS\\Batch 406\\EDA  in python\\Pandas\\Datasets\\merged_application_credit_with_status (1).csv\"\n",
    "df_cc=pd.read_csv(filepath)"
   ]
  },
  {
   "cell_type": "markdown",
   "id": "1d9513fb-f150-48de-b965-f93f49a8dd2c",
   "metadata": {},
   "source": [
    "#### Note:- `Here we just import neccessary modules to work with Dataset`"
   ]
  },
  {
   "cell_type": "code",
   "execution_count": 5,
   "id": "ee7296e4-636f-4dd7-a048-ed8783218022",
   "metadata": {
    "execution": {
     "iopub.execute_input": "2025-09-12T07:04:31.046198Z",
     "iopub.status.busy": "2025-09-12T07:04:31.046198Z",
     "iopub.status.idle": "2025-09-12T07:04:31.099897Z",
     "shell.execute_reply": "2025-09-12T07:04:31.099897Z",
     "shell.execute_reply.started": "2025-09-12T07:04:31.046198Z"
    }
   },
   "outputs": [
    {
     "data": {
      "text/html": [
       "<div>\n",
       "<style scoped>\n",
       "    .dataframe tbody tr th:only-of-type {\n",
       "        vertical-align: middle;\n",
       "    }\n",
       "\n",
       "    .dataframe tbody tr th {\n",
       "        vertical-align: top;\n",
       "    }\n",
       "\n",
       "    .dataframe thead th {\n",
       "        text-align: right;\n",
       "    }\n",
       "</style>\n",
       "<table border=\"1\" class=\"dataframe\">\n",
       "  <thead>\n",
       "    <tr style=\"text-align: right;\">\n",
       "      <th></th>\n",
       "      <th>ID</th>\n",
       "      <th>CNT_CHILDREN</th>\n",
       "      <th>AMT_INCOME_TOTAL</th>\n",
       "      <th>DAYS_BIRTH</th>\n",
       "      <th>DAYS_EMPLOYED</th>\n",
       "      <th>FLAG_MOBIL</th>\n",
       "      <th>FLAG_WORK_PHONE</th>\n",
       "      <th>FLAG_PHONE</th>\n",
       "      <th>FLAG_EMAIL</th>\n",
       "      <th>CNT_FAM_MEMBERS</th>\n",
       "      <th>WORST_STATUS_NUM</th>\n",
       "      <th>DEFAULT</th>\n",
       "    </tr>\n",
       "  </thead>\n",
       "  <tbody>\n",
       "    <tr>\n",
       "      <th>count</th>\n",
       "      <td>3.645700e+04</td>\n",
       "      <td>36457.000000</td>\n",
       "      <td>3.645700e+04</td>\n",
       "      <td>36457.000000</td>\n",
       "      <td>36457.000000</td>\n",
       "      <td>36457.0</td>\n",
       "      <td>36457.000000</td>\n",
       "      <td>36457.000000</td>\n",
       "      <td>36457.000000</td>\n",
       "      <td>36457.000000</td>\n",
       "      <td>36457.000000</td>\n",
       "      <td>36457.000000</td>\n",
       "    </tr>\n",
       "    <tr>\n",
       "      <th>mean</th>\n",
       "      <td>5.078227e+06</td>\n",
       "      <td>0.430315</td>\n",
       "      <td>1.866857e+05</td>\n",
       "      <td>-15975.173382</td>\n",
       "      <td>59262.935568</td>\n",
       "      <td>1.0</td>\n",
       "      <td>0.225526</td>\n",
       "      <td>0.294813</td>\n",
       "      <td>0.089722</td>\n",
       "      <td>2.198453</td>\n",
       "      <td>0.154017</td>\n",
       "      <td>0.016897</td>\n",
       "    </tr>\n",
       "    <tr>\n",
       "      <th>std</th>\n",
       "      <td>4.187524e+04</td>\n",
       "      <td>0.742367</td>\n",
       "      <td>1.017892e+05</td>\n",
       "      <td>4200.549944</td>\n",
       "      <td>137651.334859</td>\n",
       "      <td>0.0</td>\n",
       "      <td>0.417934</td>\n",
       "      <td>0.455965</td>\n",
       "      <td>0.285787</td>\n",
       "      <td>0.911686</td>\n",
       "      <td>0.523378</td>\n",
       "      <td>0.128886</td>\n",
       "    </tr>\n",
       "    <tr>\n",
       "      <th>min</th>\n",
       "      <td>5.008804e+06</td>\n",
       "      <td>0.000000</td>\n",
       "      <td>2.700000e+04</td>\n",
       "      <td>-25152.000000</td>\n",
       "      <td>-15713.000000</td>\n",
       "      <td>1.0</td>\n",
       "      <td>0.000000</td>\n",
       "      <td>0.000000</td>\n",
       "      <td>0.000000</td>\n",
       "      <td>1.000000</td>\n",
       "      <td>0.000000</td>\n",
       "      <td>0.000000</td>\n",
       "    </tr>\n",
       "    <tr>\n",
       "      <th>25%</th>\n",
       "      <td>5.042028e+06</td>\n",
       "      <td>0.000000</td>\n",
       "      <td>1.215000e+05</td>\n",
       "      <td>-19438.000000</td>\n",
       "      <td>-3153.000000</td>\n",
       "      <td>1.0</td>\n",
       "      <td>0.000000</td>\n",
       "      <td>0.000000</td>\n",
       "      <td>0.000000</td>\n",
       "      <td>2.000000</td>\n",
       "      <td>0.000000</td>\n",
       "      <td>0.000000</td>\n",
       "    </tr>\n",
       "    <tr>\n",
       "      <th>50%</th>\n",
       "      <td>5.074614e+06</td>\n",
       "      <td>0.000000</td>\n",
       "      <td>1.575000e+05</td>\n",
       "      <td>-15563.000000</td>\n",
       "      <td>-1552.000000</td>\n",
       "      <td>1.0</td>\n",
       "      <td>0.000000</td>\n",
       "      <td>0.000000</td>\n",
       "      <td>0.000000</td>\n",
       "      <td>2.000000</td>\n",
       "      <td>0.000000</td>\n",
       "      <td>0.000000</td>\n",
       "    </tr>\n",
       "    <tr>\n",
       "      <th>75%</th>\n",
       "      <td>5.115396e+06</td>\n",
       "      <td>1.000000</td>\n",
       "      <td>2.250000e+05</td>\n",
       "      <td>-12462.000000</td>\n",
       "      <td>-408.000000</td>\n",
       "      <td>1.0</td>\n",
       "      <td>0.000000</td>\n",
       "      <td>1.000000</td>\n",
       "      <td>0.000000</td>\n",
       "      <td>3.000000</td>\n",
       "      <td>0.000000</td>\n",
       "      <td>0.000000</td>\n",
       "    </tr>\n",
       "    <tr>\n",
       "      <th>max</th>\n",
       "      <td>5.150487e+06</td>\n",
       "      <td>19.000000</td>\n",
       "      <td>1.575000e+06</td>\n",
       "      <td>-7489.000000</td>\n",
       "      <td>365243.000000</td>\n",
       "      <td>1.0</td>\n",
       "      <td>1.000000</td>\n",
       "      <td>1.000000</td>\n",
       "      <td>1.000000</td>\n",
       "      <td>20.000000</td>\n",
       "      <td>5.000000</td>\n",
       "      <td>1.000000</td>\n",
       "    </tr>\n",
       "  </tbody>\n",
       "</table>\n",
       "</div>"
      ],
      "text/plain": [
       "                 ID  CNT_CHILDREN  AMT_INCOME_TOTAL    DAYS_BIRTH  \\\n",
       "count  3.645700e+04  36457.000000      3.645700e+04  36457.000000   \n",
       "mean   5.078227e+06      0.430315      1.866857e+05 -15975.173382   \n",
       "std    4.187524e+04      0.742367      1.017892e+05   4200.549944   \n",
       "min    5.008804e+06      0.000000      2.700000e+04 -25152.000000   \n",
       "25%    5.042028e+06      0.000000      1.215000e+05 -19438.000000   \n",
       "50%    5.074614e+06      0.000000      1.575000e+05 -15563.000000   \n",
       "75%    5.115396e+06      1.000000      2.250000e+05 -12462.000000   \n",
       "max    5.150487e+06     19.000000      1.575000e+06  -7489.000000   \n",
       "\n",
       "       DAYS_EMPLOYED  FLAG_MOBIL  FLAG_WORK_PHONE    FLAG_PHONE    FLAG_EMAIL  \\\n",
       "count   36457.000000     36457.0     36457.000000  36457.000000  36457.000000   \n",
       "mean    59262.935568         1.0         0.225526      0.294813      0.089722   \n",
       "std    137651.334859         0.0         0.417934      0.455965      0.285787   \n",
       "min    -15713.000000         1.0         0.000000      0.000000      0.000000   \n",
       "25%     -3153.000000         1.0         0.000000      0.000000      0.000000   \n",
       "50%     -1552.000000         1.0         0.000000      0.000000      0.000000   \n",
       "75%      -408.000000         1.0         0.000000      1.000000      0.000000   \n",
       "max    365243.000000         1.0         1.000000      1.000000      1.000000   \n",
       "\n",
       "       CNT_FAM_MEMBERS  WORST_STATUS_NUM       DEFAULT  \n",
       "count     36457.000000      36457.000000  36457.000000  \n",
       "mean          2.198453          0.154017      0.016897  \n",
       "std           0.911686          0.523378      0.128886  \n",
       "min           1.000000          0.000000      0.000000  \n",
       "25%           2.000000          0.000000      0.000000  \n",
       "50%           2.000000          0.000000      0.000000  \n",
       "75%           3.000000          0.000000      0.000000  \n",
       "max          20.000000          5.000000      1.000000  "
      ]
     },
     "execution_count": 5,
     "metadata": {},
     "output_type": "execute_result"
    }
   ],
   "source": [
    "df_cc.describe()"
   ]
  },
  {
   "cell_type": "code",
   "execution_count": 6,
   "id": "b641bf9d-2a12-49e4-87ec-3394e666cbbd",
   "metadata": {
    "execution": {
     "iopub.execute_input": "2025-09-12T07:04:31.101906Z",
     "iopub.status.busy": "2025-09-12T07:04:31.101906Z",
     "iopub.status.idle": "2025-09-12T07:04:31.108058Z",
     "shell.execute_reply": "2025-09-12T07:04:31.108058Z",
     "shell.execute_reply.started": "2025-09-12T07:04:31.101906Z"
    }
   },
   "outputs": [
    {
     "data": {
      "text/plain": [
       "Index(['ID', 'CODE_GENDER', 'FLAG_OWN_CAR', 'FLAG_OWN_REALTY', 'CNT_CHILDREN',\n",
       "       'AMT_INCOME_TOTAL', 'NAME_INCOME_TYPE', 'NAME_EDUCATION_TYPE',\n",
       "       'NAME_FAMILY_STATUS', 'NAME_HOUSING_TYPE', 'DAYS_BIRTH',\n",
       "       'DAYS_EMPLOYED', 'FLAG_MOBIL', 'FLAG_WORK_PHONE', 'FLAG_PHONE',\n",
       "       'FLAG_EMAIL', 'OCCUPATION_TYPE', 'CNT_FAM_MEMBERS', 'WORST_STATUS_NUM',\n",
       "       'LAST_STATUS', 'DEFAULT'],\n",
       "      dtype='object')"
      ]
     },
     "execution_count": 6,
     "metadata": {},
     "output_type": "execute_result"
    }
   ],
   "source": [
    "df_cc.columns"
   ]
  },
  {
   "cell_type": "markdown",
   "id": "d8ab84c5-9a8b-45af-9433-d0520e7ad9e9",
   "metadata": {},
   "source": [
    "---\n",
    "\n",
    "### 2. View Sample Data\n"
   ]
  },
  {
   "cell_type": "code",
   "execution_count": 7,
   "id": "45149368-54cc-46e0-9d82-a5a96279c524",
   "metadata": {
    "execution": {
     "iopub.execute_input": "2025-09-12T07:04:31.129611Z",
     "iopub.status.busy": "2025-09-12T07:04:31.129611Z",
     "iopub.status.idle": "2025-09-12T07:04:31.136181Z",
     "shell.execute_reply": "2025-09-12T07:04:31.136181Z",
     "shell.execute_reply.started": "2025-09-12T07:04:31.129611Z"
    }
   },
   "outputs": [
    {
     "data": {
      "text/plain": [
       "(36457, 21)"
      ]
     },
     "execution_count": 7,
     "metadata": {},
     "output_type": "execute_result"
    }
   ],
   "source": [
    "df_cc.shape \n",
    "\n",
    "# This will give you info about no of rows and columns in the form a tuple --> (rows, columns)"
   ]
  },
  {
   "cell_type": "code",
   "execution_count": 8,
   "id": "f5456b0e-7330-43e5-833a-5e8b0d3f002c",
   "metadata": {
    "execution": {
     "iopub.execute_input": "2025-09-12T07:04:31.136181Z",
     "iopub.status.busy": "2025-09-12T07:04:31.136181Z",
     "iopub.status.idle": "2025-09-12T07:04:31.160764Z",
     "shell.execute_reply": "2025-09-12T07:04:31.160764Z",
     "shell.execute_reply.started": "2025-09-12T07:04:31.136181Z"
    }
   },
   "outputs": [
    {
     "data": {
      "text/html": [
       "<div>\n",
       "<style scoped>\n",
       "    .dataframe tbody tr th:only-of-type {\n",
       "        vertical-align: middle;\n",
       "    }\n",
       "\n",
       "    .dataframe tbody tr th {\n",
       "        vertical-align: top;\n",
       "    }\n",
       "\n",
       "    .dataframe thead th {\n",
       "        text-align: right;\n",
       "    }\n",
       "</style>\n",
       "<table border=\"1\" class=\"dataframe\">\n",
       "  <thead>\n",
       "    <tr style=\"text-align: right;\">\n",
       "      <th></th>\n",
       "      <th>ID</th>\n",
       "      <th>CODE_GENDER</th>\n",
       "      <th>FLAG_OWN_CAR</th>\n",
       "      <th>FLAG_OWN_REALTY</th>\n",
       "      <th>CNT_CHILDREN</th>\n",
       "      <th>AMT_INCOME_TOTAL</th>\n",
       "      <th>NAME_INCOME_TYPE</th>\n",
       "      <th>NAME_EDUCATION_TYPE</th>\n",
       "      <th>NAME_FAMILY_STATUS</th>\n",
       "      <th>NAME_HOUSING_TYPE</th>\n",
       "      <th>...</th>\n",
       "      <th>DAYS_EMPLOYED</th>\n",
       "      <th>FLAG_MOBIL</th>\n",
       "      <th>FLAG_WORK_PHONE</th>\n",
       "      <th>FLAG_PHONE</th>\n",
       "      <th>FLAG_EMAIL</th>\n",
       "      <th>OCCUPATION_TYPE</th>\n",
       "      <th>CNT_FAM_MEMBERS</th>\n",
       "      <th>WORST_STATUS_NUM</th>\n",
       "      <th>LAST_STATUS</th>\n",
       "      <th>DEFAULT</th>\n",
       "    </tr>\n",
       "  </thead>\n",
       "  <tbody>\n",
       "    <tr>\n",
       "      <th>0</th>\n",
       "      <td>5008804</td>\n",
       "      <td>M</td>\n",
       "      <td>Y</td>\n",
       "      <td>Y</td>\n",
       "      <td>0</td>\n",
       "      <td>427500.0</td>\n",
       "      <td>Working</td>\n",
       "      <td>Higher education</td>\n",
       "      <td>Civil marriage</td>\n",
       "      <td>Rented apartment</td>\n",
       "      <td>...</td>\n",
       "      <td>-4542</td>\n",
       "      <td>1</td>\n",
       "      <td>1</td>\n",
       "      <td>0</td>\n",
       "      <td>0</td>\n",
       "      <td>NaN</td>\n",
       "      <td>2.0</td>\n",
       "      <td>1</td>\n",
       "      <td>C</td>\n",
       "      <td>0</td>\n",
       "    </tr>\n",
       "    <tr>\n",
       "      <th>1</th>\n",
       "      <td>5008805</td>\n",
       "      <td>M</td>\n",
       "      <td>Y</td>\n",
       "      <td>Y</td>\n",
       "      <td>0</td>\n",
       "      <td>427500.0</td>\n",
       "      <td>Working</td>\n",
       "      <td>Higher education</td>\n",
       "      <td>Civil marriage</td>\n",
       "      <td>Rented apartment</td>\n",
       "      <td>...</td>\n",
       "      <td>-4542</td>\n",
       "      <td>1</td>\n",
       "      <td>1</td>\n",
       "      <td>0</td>\n",
       "      <td>0</td>\n",
       "      <td>NaN</td>\n",
       "      <td>2.0</td>\n",
       "      <td>1</td>\n",
       "      <td>C</td>\n",
       "      <td>0</td>\n",
       "    </tr>\n",
       "    <tr>\n",
       "      <th>2</th>\n",
       "      <td>5008806</td>\n",
       "      <td>M</td>\n",
       "      <td>Y</td>\n",
       "      <td>Y</td>\n",
       "      <td>0</td>\n",
       "      <td>112500.0</td>\n",
       "      <td>Working</td>\n",
       "      <td>Secondary / secondary special</td>\n",
       "      <td>Married</td>\n",
       "      <td>House / apartment</td>\n",
       "      <td>...</td>\n",
       "      <td>-1134</td>\n",
       "      <td>1</td>\n",
       "      <td>0</td>\n",
       "      <td>0</td>\n",
       "      <td>0</td>\n",
       "      <td>Security staff</td>\n",
       "      <td>2.0</td>\n",
       "      <td>0</td>\n",
       "      <td>C</td>\n",
       "      <td>0</td>\n",
       "    </tr>\n",
       "    <tr>\n",
       "      <th>3</th>\n",
       "      <td>5008808</td>\n",
       "      <td>F</td>\n",
       "      <td>N</td>\n",
       "      <td>Y</td>\n",
       "      <td>0</td>\n",
       "      <td>270000.0</td>\n",
       "      <td>Commercial associate</td>\n",
       "      <td>Secondary / secondary special</td>\n",
       "      <td>Single / not married</td>\n",
       "      <td>House / apartment</td>\n",
       "      <td>...</td>\n",
       "      <td>-3051</td>\n",
       "      <td>1</td>\n",
       "      <td>0</td>\n",
       "      <td>1</td>\n",
       "      <td>1</td>\n",
       "      <td>Sales staff</td>\n",
       "      <td>1.0</td>\n",
       "      <td>0</td>\n",
       "      <td>0</td>\n",
       "      <td>0</td>\n",
       "    </tr>\n",
       "    <tr>\n",
       "      <th>4</th>\n",
       "      <td>5008809</td>\n",
       "      <td>F</td>\n",
       "      <td>N</td>\n",
       "      <td>Y</td>\n",
       "      <td>0</td>\n",
       "      <td>270000.0</td>\n",
       "      <td>Commercial associate</td>\n",
       "      <td>Secondary / secondary special</td>\n",
       "      <td>Single / not married</td>\n",
       "      <td>House / apartment</td>\n",
       "      <td>...</td>\n",
       "      <td>-3051</td>\n",
       "      <td>1</td>\n",
       "      <td>0</td>\n",
       "      <td>1</td>\n",
       "      <td>1</td>\n",
       "      <td>Sales staff</td>\n",
       "      <td>1.0</td>\n",
       "      <td>0</td>\n",
       "      <td>X</td>\n",
       "      <td>0</td>\n",
       "    </tr>\n",
       "  </tbody>\n",
       "</table>\n",
       "<p>5 rows × 21 columns</p>\n",
       "</div>"
      ],
      "text/plain": [
       "        ID CODE_GENDER FLAG_OWN_CAR FLAG_OWN_REALTY  CNT_CHILDREN  \\\n",
       "0  5008804           M            Y               Y             0   \n",
       "1  5008805           M            Y               Y             0   \n",
       "2  5008806           M            Y               Y             0   \n",
       "3  5008808           F            N               Y             0   \n",
       "4  5008809           F            N               Y             0   \n",
       "\n",
       "   AMT_INCOME_TOTAL      NAME_INCOME_TYPE            NAME_EDUCATION_TYPE  \\\n",
       "0          427500.0               Working               Higher education   \n",
       "1          427500.0               Working               Higher education   \n",
       "2          112500.0               Working  Secondary / secondary special   \n",
       "3          270000.0  Commercial associate  Secondary / secondary special   \n",
       "4          270000.0  Commercial associate  Secondary / secondary special   \n",
       "\n",
       "     NAME_FAMILY_STATUS  NAME_HOUSING_TYPE  ...  DAYS_EMPLOYED  FLAG_MOBIL  \\\n",
       "0        Civil marriage   Rented apartment  ...          -4542           1   \n",
       "1        Civil marriage   Rented apartment  ...          -4542           1   \n",
       "2               Married  House / apartment  ...          -1134           1   \n",
       "3  Single / not married  House / apartment  ...          -3051           1   \n",
       "4  Single / not married  House / apartment  ...          -3051           1   \n",
       "\n",
       "   FLAG_WORK_PHONE  FLAG_PHONE  FLAG_EMAIL  OCCUPATION_TYPE CNT_FAM_MEMBERS  \\\n",
       "0                1           0           0              NaN             2.0   \n",
       "1                1           0           0              NaN             2.0   \n",
       "2                0           0           0   Security staff             2.0   \n",
       "3                0           1           1      Sales staff             1.0   \n",
       "4                0           1           1      Sales staff             1.0   \n",
       "\n",
       "   WORST_STATUS_NUM  LAST_STATUS DEFAULT  \n",
       "0                 1            C       0  \n",
       "1                 1            C       0  \n",
       "2                 0            C       0  \n",
       "3                 0            0       0  \n",
       "4                 0            X       0  \n",
       "\n",
       "[5 rows x 21 columns]"
      ]
     },
     "execution_count": 8,
     "metadata": {},
     "output_type": "execute_result"
    }
   ],
   "source": [
    "df_cc.head()"
   ]
  },
  {
   "cell_type": "markdown",
   "id": "c6ca89ff-4653-4ca1-802a-da8797458c49",
   "metadata": {},
   "source": [
    "\n",
    "---\n",
    "##  **Column Descriptions**\n",
    "\n",
    "\n",
    "###  **Identifiers**\n",
    "\n",
    "* **`ID`** → Unique identifier for each customer.\n",
    "\n",
    "---\n",
    "\n",
    "###  **Demographics**\n",
    "\n",
    "* **`CODE_GENDER`** → Gender of applicant (`M` = Male, `F` = Female).\n",
    "* **`DAYS_BIRTH`** → Age of customer in days (negative value; convert to years).\n",
    "\n",
    "---\n",
    "\n",
    "###  **Family & Dependents**\n",
    "\n",
    "* **`NAME_FAMILY_STATUS`** → Marital status (`Single`, `Married`, `Civil marriage`, etc.).\n",
    "* **`CNT_CHILDREN`** → Number of children the customer has.\n",
    "* **`CNT_FAM_MEMBERS`** → Total family size (including applicant).\n",
    "\n",
    "---\n",
    "\n",
    "###  **Financial Information**\n",
    "\n",
    "* **`AMT_INCOME_TOTAL`** → Annual income of the applicant.\n",
    "* **`NAME_INCOME_TYPE`** → Income source (`Working`, `State servant`, `Pensioner`, `Commercial associate`, etc.).\n",
    "* **`NAME_EDUCATION_TYPE`** → Education level (`Higher education`, `Secondary`, `Incomplete higher`, etc.).\n",
    "* **`NAME_HOUSING_TYPE`** → Housing arrangement (`House / apartment`, `Rented apartment`, `Municipal apartment`, etc.).\n",
    "\n",
    "---\n",
    "\n",
    "###  **Employment & Occupation**\n",
    "\n",
    "* **`DAYS_EMPLOYED`** → Number of days employed (negative value; larger magnitude = longer employment).\n",
    "* **`OCCUPATION_TYPE`** → Type of occupation (`Managers`, `Laborers`, `Sales staff`, etc.).\n",
    "\n",
    "---\n",
    "\n",
    "###  **Assets Ownership**\n",
    "\n",
    "* **`FLAG_OWN_CAR`** → Whether the applicant owns a car (`Y`/`N`).\n",
    "* **`FLAG_OWN_REALTY`** → Whether the applicant owns real estate (`Y`/`N`).\n",
    "\n",
    "---\n",
    "\n",
    "###  **Contact Information**\n",
    "\n",
    "* **`FLAG_MOBIL`** → Has mobile phone (1 = Yes, 0 = No).\n",
    "* **`FLAG_WORK_PHONE`** → Has work phone (1 = Yes, 0 = No).\n",
    "* **`FLAG_PHONE`** → Has personal phone (1 = Yes, 0 = No).\n",
    "* **`FLAG_EMAIL`** → Has email (1 = Yes, 0 = No).\n",
    "\n",
    "---\n",
    "\n",
    "###  **Credit History**\n",
    "\n",
    "* **`WORST_STATUS_NUM`** → Worst delinquency level observed:\n",
    "\n",
    "  * 0 = no overdue,\n",
    "  * 1 = 1 month overdue,\n",
    "  * 2 = 2 month overdue,\n",
    "  * 3 = 3 month overdue,\n",
    "  * 4 = 4 month overdue,\n",
    "  * 5 = 120+ days overdue.\n",
    "* **`LAST_STATUS`** → Most recent repayment status (from latest month).\n",
    "\n",
    "---\n",
    "\n",
    "###  **Target Variable**\n",
    "\n",
    "* **`DEFAULT`** → Credit card eligibility:\n",
    "\n",
    "  * `0` → **Eligible** (no serious default history).\n",
    "  * `1` → **Not Eligible** (defaulted in past with ≥2 months overdue).\n",
    "\n",
    "\n",
    "#  STATUS Codes Explained\n",
    "\n",
    "* **`0`** → **Paid on time** (no DPD, i.e., “days past due”).\n",
    "* **`1`** → **1 month overdue**.\n",
    "* **`2`** → **2 months overdue**.\n",
    "* **`3`** → **3 months overdue**.\n",
    "* **`4`** → **4 months overdue**.\n",
    "* **`5`** → **Overdue 120+ days** (serious delinquency).\n",
    "* **`C`** → **Closed** (the account was closed that month).\n",
    "* **`X`** → **No loan for the month** (customer had no active credit that month).\n",
    "\n",
    "---\n",
    "\n",
    "###  How we use it in your project:\n",
    "\n",
    "* If a customer ever has **`2, 3, 4, or 5`** → they are considered **defaulters (DEFAULT = 1)**.\n",
    "* If they only have `0, 1, C, X` → they are considered **non-defaulters (DEFAULT = 0)**.\n",
    "* `LAST_STATUS` just tells you the **most recent repayment condition**.\n",
    "\n",
    "---\n",
    "\n",
    "\n",
    "\n"
   ]
  },
  {
   "cell_type": "markdown",
   "id": "62e392c7-ed80-4f82-8f8c-544d2b987a0f",
   "metadata": {},
   "source": [
    "#### Note:- `Here we have 21 columns and above short description will give you enough understanding of what each column represents `\n",
    "\n",
    "---"
   ]
  },
  {
   "cell_type": "markdown",
   "id": "7341c454-a0cd-4e5f-9f6f-14a484b00d04",
   "metadata": {},
   "source": [
    "### 3. Check Structure"
   ]
  },
  {
   "cell_type": "code",
   "execution_count": 9,
   "id": "b013dfd5-8302-4f9d-94bd-f2e094bf6684",
   "metadata": {
    "execution": {
     "iopub.execute_input": "2025-09-12T07:04:31.212838Z",
     "iopub.status.busy": "2025-09-12T07:04:31.212838Z",
     "iopub.status.idle": "2025-09-12T07:04:31.240508Z",
     "shell.execute_reply": "2025-09-12T07:04:31.240508Z",
     "shell.execute_reply.started": "2025-09-12T07:04:31.212838Z"
    }
   },
   "outputs": [
    {
     "name": "stdout",
     "output_type": "stream",
     "text": [
      "<class 'pandas.core.frame.DataFrame'>\n",
      "RangeIndex: 36457 entries, 0 to 36456\n",
      "Data columns (total 21 columns):\n",
      " #   Column               Non-Null Count  Dtype  \n",
      "---  ------               --------------  -----  \n",
      " 0   ID                   36457 non-null  int64  \n",
      " 1   CODE_GENDER          36457 non-null  object \n",
      " 2   FLAG_OWN_CAR         36457 non-null  object \n",
      " 3   FLAG_OWN_REALTY      36457 non-null  object \n",
      " 4   CNT_CHILDREN         36457 non-null  int64  \n",
      " 5   AMT_INCOME_TOTAL     36457 non-null  float64\n",
      " 6   NAME_INCOME_TYPE     36457 non-null  object \n",
      " 7   NAME_EDUCATION_TYPE  36457 non-null  object \n",
      " 8   NAME_FAMILY_STATUS   36457 non-null  object \n",
      " 9   NAME_HOUSING_TYPE    36457 non-null  object \n",
      " 10  DAYS_BIRTH           36457 non-null  int64  \n",
      " 11  DAYS_EMPLOYED        36457 non-null  int64  \n",
      " 12  FLAG_MOBIL           36457 non-null  int64  \n",
      " 13  FLAG_WORK_PHONE      36457 non-null  int64  \n",
      " 14  FLAG_PHONE           36457 non-null  int64  \n",
      " 15  FLAG_EMAIL           36457 non-null  int64  \n",
      " 16  OCCUPATION_TYPE      25134 non-null  object \n",
      " 17  CNT_FAM_MEMBERS      36457 non-null  float64\n",
      " 18  WORST_STATUS_NUM     36457 non-null  int64  \n",
      " 19  LAST_STATUS          36457 non-null  object \n",
      " 20  DEFAULT              36457 non-null  int64  \n",
      "dtypes: float64(2), int64(10), object(9)\n",
      "memory usage: 5.8+ MB\n"
     ]
    }
   ],
   "source": [
    "df_cc.info()"
   ]
  },
  {
   "cell_type": "markdown",
   "id": "2abd77f2-66b8-4c94-8533-db7d77299a7b",
   "metadata": {
    "execution": {
     "iopub.execute_input": "2025-08-19T12:10:33.977030Z",
     "iopub.status.busy": "2025-08-19T12:10:33.976826Z",
     "iopub.status.idle": "2025-08-19T12:10:33.985230Z",
     "shell.execute_reply": "2025-08-19T12:10:33.984223Z",
     "shell.execute_reply.started": "2025-08-19T12:10:33.977030Z"
    }
   },
   "source": [
    "### Note:- \n",
    "\n",
    "* Number of rows and columns\n",
    "* Column names\n",
    "* Data types\n",
    "* Amount of memory used by dataset\n",
    "\n",
    "---"
   ]
  },
  {
   "cell_type": "markdown",
   "id": "6f0e2f50-cf02-4622-a65f-e4450cf5bdf7",
   "metadata": {},
   "source": [
    "### 4. Get Summary Statistics\n"
   ]
  },
  {
   "cell_type": "code",
   "execution_count": 10,
   "id": "4b988f8b-661a-4171-829c-a11e2c080e9b",
   "metadata": {
    "execution": {
     "iopub.execute_input": "2025-09-12T07:04:31.279510Z",
     "iopub.status.busy": "2025-09-12T07:04:31.279510Z",
     "iopub.status.idle": "2025-09-12T07:04:31.317769Z",
     "shell.execute_reply": "2025-09-12T07:04:31.316870Z",
     "shell.execute_reply.started": "2025-09-12T07:04:31.279510Z"
    }
   },
   "outputs": [
    {
     "data": {
      "text/html": [
       "<div>\n",
       "<style scoped>\n",
       "    .dataframe tbody tr th:only-of-type {\n",
       "        vertical-align: middle;\n",
       "    }\n",
       "\n",
       "    .dataframe tbody tr th {\n",
       "        vertical-align: top;\n",
       "    }\n",
       "\n",
       "    .dataframe thead th {\n",
       "        text-align: right;\n",
       "    }\n",
       "</style>\n",
       "<table border=\"1\" class=\"dataframe\">\n",
       "  <thead>\n",
       "    <tr style=\"text-align: right;\">\n",
       "      <th></th>\n",
       "      <th>ID</th>\n",
       "      <th>CNT_CHILDREN</th>\n",
       "      <th>AMT_INCOME_TOTAL</th>\n",
       "      <th>DAYS_BIRTH</th>\n",
       "      <th>DAYS_EMPLOYED</th>\n",
       "      <th>FLAG_MOBIL</th>\n",
       "      <th>FLAG_WORK_PHONE</th>\n",
       "      <th>FLAG_PHONE</th>\n",
       "      <th>FLAG_EMAIL</th>\n",
       "      <th>CNT_FAM_MEMBERS</th>\n",
       "      <th>WORST_STATUS_NUM</th>\n",
       "      <th>DEFAULT</th>\n",
       "    </tr>\n",
       "  </thead>\n",
       "  <tbody>\n",
       "    <tr>\n",
       "      <th>count</th>\n",
       "      <td>3.645700e+04</td>\n",
       "      <td>36457.000000</td>\n",
       "      <td>3.645700e+04</td>\n",
       "      <td>36457.000000</td>\n",
       "      <td>36457.000000</td>\n",
       "      <td>36457.0</td>\n",
       "      <td>36457.000000</td>\n",
       "      <td>36457.000000</td>\n",
       "      <td>36457.000000</td>\n",
       "      <td>36457.000000</td>\n",
       "      <td>36457.000000</td>\n",
       "      <td>36457.000000</td>\n",
       "    </tr>\n",
       "    <tr>\n",
       "      <th>mean</th>\n",
       "      <td>5.078227e+06</td>\n",
       "      <td>0.430315</td>\n",
       "      <td>1.866857e+05</td>\n",
       "      <td>-15975.173382</td>\n",
       "      <td>59262.935568</td>\n",
       "      <td>1.0</td>\n",
       "      <td>0.225526</td>\n",
       "      <td>0.294813</td>\n",
       "      <td>0.089722</td>\n",
       "      <td>2.198453</td>\n",
       "      <td>0.154017</td>\n",
       "      <td>0.016897</td>\n",
       "    </tr>\n",
       "    <tr>\n",
       "      <th>std</th>\n",
       "      <td>4.187524e+04</td>\n",
       "      <td>0.742367</td>\n",
       "      <td>1.017892e+05</td>\n",
       "      <td>4200.549944</td>\n",
       "      <td>137651.334859</td>\n",
       "      <td>0.0</td>\n",
       "      <td>0.417934</td>\n",
       "      <td>0.455965</td>\n",
       "      <td>0.285787</td>\n",
       "      <td>0.911686</td>\n",
       "      <td>0.523378</td>\n",
       "      <td>0.128886</td>\n",
       "    </tr>\n",
       "    <tr>\n",
       "      <th>min</th>\n",
       "      <td>5.008804e+06</td>\n",
       "      <td>0.000000</td>\n",
       "      <td>2.700000e+04</td>\n",
       "      <td>-25152.000000</td>\n",
       "      <td>-15713.000000</td>\n",
       "      <td>1.0</td>\n",
       "      <td>0.000000</td>\n",
       "      <td>0.000000</td>\n",
       "      <td>0.000000</td>\n",
       "      <td>1.000000</td>\n",
       "      <td>0.000000</td>\n",
       "      <td>0.000000</td>\n",
       "    </tr>\n",
       "    <tr>\n",
       "      <th>25%</th>\n",
       "      <td>5.042028e+06</td>\n",
       "      <td>0.000000</td>\n",
       "      <td>1.215000e+05</td>\n",
       "      <td>-19438.000000</td>\n",
       "      <td>-3153.000000</td>\n",
       "      <td>1.0</td>\n",
       "      <td>0.000000</td>\n",
       "      <td>0.000000</td>\n",
       "      <td>0.000000</td>\n",
       "      <td>2.000000</td>\n",
       "      <td>0.000000</td>\n",
       "      <td>0.000000</td>\n",
       "    </tr>\n",
       "    <tr>\n",
       "      <th>50%</th>\n",
       "      <td>5.074614e+06</td>\n",
       "      <td>0.000000</td>\n",
       "      <td>1.575000e+05</td>\n",
       "      <td>-15563.000000</td>\n",
       "      <td>-1552.000000</td>\n",
       "      <td>1.0</td>\n",
       "      <td>0.000000</td>\n",
       "      <td>0.000000</td>\n",
       "      <td>0.000000</td>\n",
       "      <td>2.000000</td>\n",
       "      <td>0.000000</td>\n",
       "      <td>0.000000</td>\n",
       "    </tr>\n",
       "    <tr>\n",
       "      <th>75%</th>\n",
       "      <td>5.115396e+06</td>\n",
       "      <td>1.000000</td>\n",
       "      <td>2.250000e+05</td>\n",
       "      <td>-12462.000000</td>\n",
       "      <td>-408.000000</td>\n",
       "      <td>1.0</td>\n",
       "      <td>0.000000</td>\n",
       "      <td>1.000000</td>\n",
       "      <td>0.000000</td>\n",
       "      <td>3.000000</td>\n",
       "      <td>0.000000</td>\n",
       "      <td>0.000000</td>\n",
       "    </tr>\n",
       "    <tr>\n",
       "      <th>max</th>\n",
       "      <td>5.150487e+06</td>\n",
       "      <td>19.000000</td>\n",
       "      <td>1.575000e+06</td>\n",
       "      <td>-7489.000000</td>\n",
       "      <td>365243.000000</td>\n",
       "      <td>1.0</td>\n",
       "      <td>1.000000</td>\n",
       "      <td>1.000000</td>\n",
       "      <td>1.000000</td>\n",
       "      <td>20.000000</td>\n",
       "      <td>5.000000</td>\n",
       "      <td>1.000000</td>\n",
       "    </tr>\n",
       "  </tbody>\n",
       "</table>\n",
       "</div>"
      ],
      "text/plain": [
       "                 ID  CNT_CHILDREN  AMT_INCOME_TOTAL    DAYS_BIRTH  \\\n",
       "count  3.645700e+04  36457.000000      3.645700e+04  36457.000000   \n",
       "mean   5.078227e+06      0.430315      1.866857e+05 -15975.173382   \n",
       "std    4.187524e+04      0.742367      1.017892e+05   4200.549944   \n",
       "min    5.008804e+06      0.000000      2.700000e+04 -25152.000000   \n",
       "25%    5.042028e+06      0.000000      1.215000e+05 -19438.000000   \n",
       "50%    5.074614e+06      0.000000      1.575000e+05 -15563.000000   \n",
       "75%    5.115396e+06      1.000000      2.250000e+05 -12462.000000   \n",
       "max    5.150487e+06     19.000000      1.575000e+06  -7489.000000   \n",
       "\n",
       "       DAYS_EMPLOYED  FLAG_MOBIL  FLAG_WORK_PHONE    FLAG_PHONE    FLAG_EMAIL  \\\n",
       "count   36457.000000     36457.0     36457.000000  36457.000000  36457.000000   \n",
       "mean    59262.935568         1.0         0.225526      0.294813      0.089722   \n",
       "std    137651.334859         0.0         0.417934      0.455965      0.285787   \n",
       "min    -15713.000000         1.0         0.000000      0.000000      0.000000   \n",
       "25%     -3153.000000         1.0         0.000000      0.000000      0.000000   \n",
       "50%     -1552.000000         1.0         0.000000      0.000000      0.000000   \n",
       "75%      -408.000000         1.0         0.000000      1.000000      0.000000   \n",
       "max    365243.000000         1.0         1.000000      1.000000      1.000000   \n",
       "\n",
       "       CNT_FAM_MEMBERS  WORST_STATUS_NUM       DEFAULT  \n",
       "count     36457.000000      36457.000000  36457.000000  \n",
       "mean          2.198453          0.154017      0.016897  \n",
       "std           0.911686          0.523378      0.128886  \n",
       "min           1.000000          0.000000      0.000000  \n",
       "25%           2.000000          0.000000      0.000000  \n",
       "50%           2.000000          0.000000      0.000000  \n",
       "75%           3.000000          0.000000      0.000000  \n",
       "max          20.000000          5.000000      1.000000  "
      ]
     },
     "execution_count": 10,
     "metadata": {},
     "output_type": "execute_result"
    }
   ],
   "source": [
    "df_cc.describe()\n",
    "pd.set_option(\"display.float_format\", \"{:.2f}\".format)\n"
   ]
  },
  {
   "cell_type": "markdown",
   "id": "21f66b99-09d7-44bb-983c-e1961a1e2cbb",
   "metadata": {},
   "source": [
    "### observation:\n",
    "\n",
    "- `Provides mean, min, max,standard deviation, quartiles for numerical features.`\n",
    "- `Helps detect outliers`\n",
    "---"
   ]
  },
  {
   "cell_type": "markdown",
   "id": "fc7410a8-aae3-40bf-ab65-3b8ae7f3fecf",
   "metadata": {},
   "source": [
    "### 5. Find Missing Values"
   ]
  },
  {
   "cell_type": "code",
   "execution_count": 11,
   "id": "c0100a32-774f-44ac-b398-ea8822c8abce",
   "metadata": {
    "execution": {
     "iopub.execute_input": "2025-09-12T07:04:31.349540Z",
     "iopub.status.busy": "2025-09-12T07:04:31.349540Z",
     "iopub.status.idle": "2025-09-12T07:04:31.356850Z",
     "shell.execute_reply": "2025-09-12T07:04:31.356850Z",
     "shell.execute_reply.started": "2025-09-12T07:04:31.349540Z"
    }
   },
   "outputs": [
    {
     "data": {
      "text/plain": [
       "(36457, 21)"
      ]
     },
     "execution_count": 11,
     "metadata": {},
     "output_type": "execute_result"
    }
   ],
   "source": [
    "df_cc.shape"
   ]
  },
  {
   "cell_type": "code",
   "execution_count": 12,
   "id": "57f08db1-e816-4284-b567-78f642b8b1d5",
   "metadata": {
    "execution": {
     "iopub.execute_input": "2025-09-12T07:04:31.356850Z",
     "iopub.status.busy": "2025-09-12T07:04:31.356850Z",
     "iopub.status.idle": "2025-09-12T07:04:31.483729Z",
     "shell.execute_reply": "2025-09-12T07:04:31.483729Z",
     "shell.execute_reply.started": "2025-09-12T07:04:31.356850Z"
    }
   },
   "outputs": [
    {
     "data": {
      "text/plain": [
       "ID                         0\n",
       "CODE_GENDER                0\n",
       "FLAG_OWN_CAR               0\n",
       "FLAG_OWN_REALTY            0\n",
       "CNT_CHILDREN               0\n",
       "AMT_INCOME_TOTAL           0\n",
       "NAME_INCOME_TYPE           0\n",
       "NAME_EDUCATION_TYPE        0\n",
       "NAME_FAMILY_STATUS         0\n",
       "NAME_HOUSING_TYPE          0\n",
       "DAYS_BIRTH                 0\n",
       "DAYS_EMPLOYED              0\n",
       "FLAG_MOBIL                 0\n",
       "FLAG_WORK_PHONE            0\n",
       "FLAG_PHONE                 0\n",
       "FLAG_EMAIL                 0\n",
       "OCCUPATION_TYPE        11323\n",
       "CNT_FAM_MEMBERS            0\n",
       "WORST_STATUS_NUM           0\n",
       "LAST_STATUS                0\n",
       "DEFAULT                    0\n",
       "dtype: int64"
      ]
     },
     "execution_count": 12,
     "metadata": {},
     "output_type": "execute_result"
    }
   ],
   "source": [
    "df_cc.isnull().sum()"
   ]
  },
  {
   "cell_type": "code",
   "execution_count": 13,
   "id": "4d2f31e7-0d2e-4ed9-8f3f-f7cb68d65ae8",
   "metadata": {
    "execution": {
     "iopub.execute_input": "2025-09-12T07:04:31.483729Z",
     "iopub.status.busy": "2025-09-12T07:04:31.483729Z",
     "iopub.status.idle": "2025-09-12T07:04:31.491821Z",
     "shell.execute_reply": "2025-09-12T07:04:31.491821Z",
     "shell.execute_reply.started": "2025-09-12T07:04:31.483729Z"
    }
   },
   "outputs": [
    {
     "data": {
      "text/plain": [
       "(36457, 21)"
      ]
     },
     "execution_count": 13,
     "metadata": {},
     "output_type": "execute_result"
    },
    {
     "data": {
      "text/plain": [
       "31.05850728255205"
      ]
     },
     "execution_count": 13,
     "metadata": {},
     "output_type": "execute_result"
    }
   ],
   "source": [
    "df_cc.shape\n",
    "(11323/36457)*100"
   ]
  },
  {
   "cell_type": "markdown",
   "id": "cd0e89cf-3e0c-4da8-93ed-5f4cb1155583",
   "metadata": {},
   "source": [
    "\n",
    "\n",
    "So, we have:\n",
    "\n",
    "* **Dataset size:** `36457 rows`\n",
    "* **Missing in `OCCUPATION_TYPE`:** `11323`\n",
    "* **Percentage missing:**\n",
    "\n",
    "$$\n",
    "\\frac{11323}{36457} \\times 100 \\approx 31.05\\%\n",
    "$$\n",
    "\n",
    "---\n",
    "\n",
    "#### What this means:\n",
    "\n",
    "* **\\~31% missing is pretty big.**\n",
    "* If you fill everything with the **mode (most frequent occupation)**, you’ll artificially inflate that occupation by \\~31%, which will distort your analysis/model.\n",
    "* If you **drop the column**, you lose a potentially useful feature.\n",
    "* If you **create a new category \"Unknown\"**, you keep the data and also preserve the information that occupation wasn’t reported.\n",
    "---\n"
   ]
  },
  {
   "cell_type": "markdown",
   "id": "f5e72bb5-22e4-42df-9ab4-3f732792c858",
   "metadata": {},
   "source": [
    "#### observation:-  `You need to find out missing/NaN values present in the dataframe, so that you can clean your data before you perform any operations`"
   ]
  },
  {
   "cell_type": "code",
   "execution_count": 14,
   "id": "8e122435-377f-4162-9020-709597bc345f",
   "metadata": {
    "execution": {
     "iopub.execute_input": "2025-09-12T07:04:31.536417Z",
     "iopub.status.busy": "2025-09-12T07:04:31.536417Z",
     "iopub.status.idle": "2025-09-12T07:04:31.555511Z",
     "shell.execute_reply": "2025-09-12T07:04:31.555511Z",
     "shell.execute_reply.started": "2025-09-12T07:04:31.536417Z"
    }
   },
   "outputs": [
    {
     "name": "stdout",
     "output_type": "stream",
     "text": [
      "<class 'pandas.core.frame.DataFrame'>\n",
      "RangeIndex: 36457 entries, 0 to 36456\n",
      "Data columns (total 21 columns):\n",
      " #   Column               Non-Null Count  Dtype  \n",
      "---  ------               --------------  -----  \n",
      " 0   ID                   36457 non-null  int64  \n",
      " 1   CODE_GENDER          36457 non-null  object \n",
      " 2   FLAG_OWN_CAR         36457 non-null  object \n",
      " 3   FLAG_OWN_REALTY      36457 non-null  object \n",
      " 4   CNT_CHILDREN         36457 non-null  int64  \n",
      " 5   AMT_INCOME_TOTAL     36457 non-null  float64\n",
      " 6   NAME_INCOME_TYPE     36457 non-null  object \n",
      " 7   NAME_EDUCATION_TYPE  36457 non-null  object \n",
      " 8   NAME_FAMILY_STATUS   36457 non-null  object \n",
      " 9   NAME_HOUSING_TYPE    36457 non-null  object \n",
      " 10  DAYS_BIRTH           36457 non-null  int64  \n",
      " 11  DAYS_EMPLOYED        36457 non-null  int64  \n",
      " 12  FLAG_MOBIL           36457 non-null  int64  \n",
      " 13  FLAG_WORK_PHONE      36457 non-null  int64  \n",
      " 14  FLAG_PHONE           36457 non-null  int64  \n",
      " 15  FLAG_EMAIL           36457 non-null  int64  \n",
      " 16  OCCUPATION_TYPE      25134 non-null  object \n",
      " 17  CNT_FAM_MEMBERS      36457 non-null  float64\n",
      " 18  WORST_STATUS_NUM     36457 non-null  int64  \n",
      " 19  LAST_STATUS          36457 non-null  object \n",
      " 20  DEFAULT              36457 non-null  int64  \n",
      "dtypes: float64(2), int64(10), object(9)\n",
      "memory usage: 5.8+ MB\n"
     ]
    }
   ],
   "source": [
    "df_cc.info()"
   ]
  },
  {
   "cell_type": "markdown",
   "id": "2278689c-2cc9-4555-897b-15d53b0eb8c2",
   "metadata": {},
   "source": [
    "#### observation:- `Here we have successfully found  missing/NaN values in the categorical column (OCCUPATION_TYPE), moving on further we will handle any data cleaning issues in any of the column as per our requirement`      "
   ]
  },
  {
   "cell_type": "markdown",
   "id": "8811c4e9-249b-4d79-8b75-e0a27e4c4ce6",
   "metadata": {},
   "source": [
    "### 6. finding out duplicate values in every column"
   ]
  },
  {
   "cell_type": "code",
   "execution_count": 15,
   "id": "345fc9c3-4563-49da-aa68-f83255a0c893",
   "metadata": {
    "execution": {
     "iopub.execute_input": "2025-09-12T07:04:31.584556Z",
     "iopub.status.busy": "2025-09-12T07:04:31.584556Z",
     "iopub.status.idle": "2025-09-12T07:04:31.590869Z",
     "shell.execute_reply": "2025-09-12T07:04:31.590869Z",
     "shell.execute_reply.started": "2025-09-12T07:04:31.584556Z"
    }
   },
   "outputs": [
    {
     "data": {
      "text/plain": [
       "(36457, 21)"
      ]
     },
     "execution_count": 15,
     "metadata": {},
     "output_type": "execute_result"
    }
   ],
   "source": [
    "df_cc.shape"
   ]
  },
  {
   "cell_type": "code",
   "execution_count": 16,
   "id": "24e09bc3-a233-4454-b9ed-754f2090232e",
   "metadata": {
    "execution": {
     "iopub.execute_input": "2025-09-12T07:04:31.590869Z",
     "iopub.status.busy": "2025-09-12T07:04:31.590869Z",
     "iopub.status.idle": "2025-09-12T07:04:31.611791Z",
     "shell.execute_reply": "2025-09-12T07:04:31.611791Z",
     "shell.execute_reply.started": "2025-09-12T07:04:31.590869Z"
    }
   },
   "outputs": [
    {
     "name": "stdout",
     "output_type": "stream",
     "text": [
      "ID:0\n",
      "CODE_GENDER:36455\n",
      "FLAG_OWN_CAR:36455\n",
      "FLAG_OWN_REALTY:36455\n",
      "CNT_CHILDREN:36448\n",
      "AMT_INCOME_TOTAL:36192\n",
      "NAME_INCOME_TYPE:36452\n",
      "NAME_EDUCATION_TYPE:36452\n",
      "NAME_FAMILY_STATUS:36452\n",
      "NAME_HOUSING_TYPE:36451\n",
      "DAYS_BIRTH:29274\n",
      "DAYS_EMPLOYED:32817\n",
      "FLAG_MOBIL:36456\n",
      "FLAG_WORK_PHONE:36455\n",
      "FLAG_PHONE:36455\n",
      "FLAG_EMAIL:36455\n",
      "OCCUPATION_TYPE:36438\n",
      "CNT_FAM_MEMBERS:36447\n",
      "WORST_STATUS_NUM:36451\n",
      "LAST_STATUS:36449\n",
      "DEFAULT:36455\n"
     ]
    }
   ],
   "source": [
    "for i in df_cc.columns:\n",
    "    print(f\"{i}:{df_cc[i].duplicated().sum()}\")"
   ]
  },
  {
   "cell_type": "code",
   "execution_count": 17,
   "id": "4f630192-0669-4d60-bf7b-fb032795dafe",
   "metadata": {
    "execution": {
     "iopub.execute_input": "2025-09-12T07:04:31.613219Z",
     "iopub.status.busy": "2025-09-12T07:04:31.613219Z",
     "iopub.status.idle": "2025-09-12T07:04:31.643166Z",
     "shell.execute_reply": "2025-09-12T07:04:31.643166Z",
     "shell.execute_reply.started": "2025-09-12T07:04:31.613219Z"
    }
   },
   "outputs": [
    {
     "data": {
      "text/plain": [
       "0"
      ]
     },
     "execution_count": 17,
     "metadata": {},
     "output_type": "execute_result"
    }
   ],
   "source": [
    "df_cc.duplicated().sum()"
   ]
  },
  {
   "cell_type": "markdown",
   "id": "9ee703f2-ab51-44b1-986b-0c8a7573514e",
   "metadata": {},
   "source": [
    "#### observation:- Since there are no duplicates, there's no need to drop duplicates using `df.drop_duplicates(inplace=True)`\n",
    " ----"
   ]
  },
  {
   "cell_type": "markdown",
   "id": "2d17e2fb-2699-4a20-ba0c-ca1451d3b2af",
   "metadata": {},
   "source": [
    "### 7. Detecting Outliers"
   ]
  },
  {
   "cell_type": "markdown",
   "id": "b8d976c2-c808-4d26-8853-1ae0f52b37ce",
   "metadata": {},
   "source": [
    "`Detecting Outliers`\n",
    "\n",
    "- The IQR (Interquartile Range) method was used to detect outliers in all numerical columns as part of the non-visual analysis.\n",
    "\n",
    "\n",
    "**Steps:**\n",
    "\n",
    "    - Calculate Q 1 (25 th percentile) and Q 3 (75 th percentile)\n",
    "    \n",
    "    - Compute IQR =Q 3 -Q 1\n",
    "    \n",
    "    - Define lower and upper bounds:\n",
    "    \n",
    "    - Lower bound = Q 1 - 1.5 x IQR\n",
    "    \n",
    "    - Upper bound = Q 3 + 1.5 x IQR\n",
    "    \n",
    "    - Any value outside this range is considered an outlier"
   ]
  },
  {
   "cell_type": "code",
   "execution_count": 18,
   "id": "eb1dca8e-29bd-4bc8-9ca7-79ee5c287acc",
   "metadata": {
    "execution": {
     "iopub.execute_input": "2025-09-12T07:04:31.689778Z",
     "iopub.status.busy": "2025-09-12T07:04:31.689778Z",
     "iopub.status.idle": "2025-09-12T07:04:31.700028Z",
     "shell.execute_reply": "2025-09-12T07:04:31.700028Z",
     "shell.execute_reply.started": "2025-09-12T07:04:31.689778Z"
    }
   },
   "outputs": [],
   "source": [
    "numerical_columns=df_cc.select_dtypes(include=['int64', 'float64']).columns.to_list()\n",
    "categorical_columns=df_cc.select_dtypes(include=['object']).columns.to_list()"
   ]
  },
  {
   "cell_type": "code",
   "execution_count": 19,
   "id": "0ac55d24-06f9-4212-8013-e8378049f4c4",
   "metadata": {
    "execution": {
     "iopub.execute_input": "2025-09-12T07:04:31.700028Z",
     "iopub.status.busy": "2025-09-12T07:04:31.700028Z",
     "iopub.status.idle": "2025-09-12T07:04:31.738065Z",
     "shell.execute_reply": "2025-09-12T07:04:31.738065Z",
     "shell.execute_reply.started": "2025-09-12T07:04:31.700028Z"
    }
   },
   "outputs": [],
   "source": [
    "outliers = {}\n",
    "for col in numerical_columns:\n",
    "    if df_cc[col].isnull().all():\n",
    "        continue  # Skip the columns with all missing values\n",
    "    Q1 = df_cc[col].quantile(0.25)\n",
    "    Q3 = df_cc[col].quantile(0.75)\n",
    "    IQR = Q3 - Q1\n",
    "    lower = Q1 - 1.5 * IQR\n",
    "    upper = Q3 + 1.5 * IQR\n",
    "    outlier_values = df_cc[(df_cc[col] < lower) | (df_cc[col] > upper)][col]\n",
    "    if not outlier_values.empty:\n",
    "        outliers[col] = outlier_values.tolist()\n",
    "    "
   ]
  },
  {
   "cell_type": "code",
   "execution_count": 20,
   "id": "d47f8587-c84b-4818-a558-bc61b269d35f",
   "metadata": {
    "execution": {
     "iopub.execute_input": "2025-09-12T07:04:31.738065Z",
     "iopub.status.busy": "2025-09-12T07:04:31.738065Z",
     "iopub.status.idle": "2025-09-12T07:04:31.744410Z",
     "shell.execute_reply": "2025-09-12T07:04:31.744410Z",
     "shell.execute_reply.started": "2025-09-12T07:04:31.738065Z"
    }
   },
   "outputs": [],
   "source": [
    "# if outliers:\n",
    "#     for col, vals in outliers.items():\n",
    "#         print(f\"\\nOutliers in column '{col}':\\n{vals}\")\n",
    "#     else:\n",
    "#       print(\"No outliers found in the numerical columns.\")"
   ]
  },
  {
   "cell_type": "markdown",
   "id": "59564690-f147-4b53-823e-d9733f3eb1ce",
   "metadata": {
    "execution": {
     "iopub.execute_input": "2025-09-05T07:45:22.628880Z",
     "iopub.status.busy": "2025-09-05T07:45:22.627882Z",
     "iopub.status.idle": "2025-09-05T07:45:22.637176Z",
     "shell.execute_reply": "2025-09-05T07:45:22.636166Z",
     "shell.execute_reply.started": "2025-09-05T07:45:22.628880Z"
    }
   },
   "source": [
    "------\n",
    "- `Till now, we have seen project context, basic understanding of dataset structure such as size,shape, number of columns and good understanding of what columns are, summary statisctics of dataframe, finding missing values and outliers present in dataset all these are part of project phase1. In phase2, will see the data cleaning such as handling missing values, seggregating numerical and categorical columns, Visual and Non visual Analysis on Dataset so that you'll get good understanding of dataset.`\n",
    "-----"
   ]
  },
  {
   "cell_type": "code",
   "execution_count": null,
   "id": "1306b055-fe7a-4a1f-80f6-d709c2a78bb3",
   "metadata": {},
   "outputs": [],
   "source": []
  },
  {
   "cell_type": "code",
   "execution_count": null,
   "id": "70786274-06a0-4171-bca9-774873767b69",
   "metadata": {},
   "outputs": [],
   "source": []
  },
  {
   "cell_type": "code",
   "execution_count": null,
   "id": "a5033620-53fe-400e-a198-b4983746b1cb",
   "metadata": {},
   "outputs": [],
   "source": []
  },
  {
   "cell_type": "code",
   "execution_count": null,
   "id": "2cb17ede-e885-4f85-8a9f-e9bb4d972fa9",
   "metadata": {},
   "outputs": [],
   "source": []
  }
 ],
 "metadata": {
  "kernelspec": {
   "display_name": "Python [conda env:base] *",
   "language": "python",
   "name": "conda-base-py"
  },
  "language_info": {
   "codemirror_mode": {
    "name": "ipython",
    "version": 3
   },
   "file_extension": ".py",
   "mimetype": "text/x-python",
   "name": "python",
   "nbconvert_exporter": "python",
   "pygments_lexer": "ipython3",
   "version": "3.12.3"
  }
 },
 "nbformat": 4,
 "nbformat_minor": 5
}
